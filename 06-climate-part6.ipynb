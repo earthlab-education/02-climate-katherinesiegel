{
 "cells": [
  {
   "cell_type": "markdown",
   "id": "09fc2e90",
   "metadata": {},
   "source": [
    "### Portfolio post\n",
    "Access data for a different location"
   ]
  },
  {
   "cell_type": "code",
   "execution_count": null,
   "id": "ae20c578",
   "metadata": {
    "vscode": {
     "languageId": "plaintext"
    }
   },
   "outputs": [],
   "source": []
  }
 ],
 "metadata": {
  "language_info": {
   "name": "python"
  }
 },
 "nbformat": 4,
 "nbformat_minor": 5
}
